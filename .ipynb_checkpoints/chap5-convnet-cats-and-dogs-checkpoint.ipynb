{
 "cells": [
  {
   "cell_type": "code",
   "execution_count": 1,
   "metadata": {},
   "outputs": [
    {
     "name": "stderr",
     "output_type": "stream",
     "text": [
      "Using TensorFlow backend.\n"
     ]
    }
   ],
   "source": [
    "from keras import layers\n",
    "from keras import models"
   ]
  },
  {
   "cell_type": "code",
   "execution_count": 2,
   "metadata": {},
   "outputs": [],
   "source": [
    "model = models.Sequential()"
   ]
  },
  {
   "cell_type": "code",
   "execution_count": 3,
   "metadata": {},
   "outputs": [],
   "source": [
    "model.add(layers.Conv2D(32, (3, 3), activation=\"relu\", input_shape=(150, 150, 3)))\n",
    "model.add(layers.MaxPooling2D((2, 2)))\n",
    "model.add(layers.Conv2D(64, (3, 3), activation=\"relu\"))\n",
    "model.add(layers.MaxPooling2D((2, 2)))\n",
    "model.add(layers.Conv2D(128, (3, 3), activation=\"relu\"))\n",
    "model.add(layers.MaxPooling2D((2, 2)))\n",
    "model.add(layers.Conv2D(128, (3, 3), activation=\"relu\"))\n",
    "model.add(layers.MaxPooling2D((2, 2)))\n",
    "model.add(layers.Flatten())\n",
    "model.add(layers.Dense(512, activation=\"relu\"))\n",
    "model.add(layers.Dense(1, activation=\"sigmoid\"))"
   ]
  },
  {
   "cell_type": "code",
   "execution_count": 4,
   "metadata": {},
   "outputs": [
    {
     "name": "stdout",
     "output_type": "stream",
     "text": [
      "_________________________________________________________________\n",
      "Layer (type)                 Output Shape              Param #   \n",
      "=================================================================\n",
      "conv2d_1 (Conv2D)            (None, 148, 148, 32)      896       \n",
      "_________________________________________________________________\n",
      "max_pooling2d_1 (MaxPooling2 (None, 74, 74, 32)        0         \n",
      "_________________________________________________________________\n",
      "conv2d_2 (Conv2D)            (None, 72, 72, 64)        18496     \n",
      "_________________________________________________________________\n",
      "max_pooling2d_2 (MaxPooling2 (None, 36, 36, 64)        0         \n",
      "_________________________________________________________________\n",
      "conv2d_3 (Conv2D)            (None, 34, 34, 128)       73856     \n",
      "_________________________________________________________________\n",
      "max_pooling2d_3 (MaxPooling2 (None, 17, 17, 128)       0         \n",
      "_________________________________________________________________\n",
      "conv2d_4 (Conv2D)            (None, 15, 15, 128)       147584    \n",
      "_________________________________________________________________\n",
      "max_pooling2d_4 (MaxPooling2 (None, 7, 7, 128)         0         \n",
      "_________________________________________________________________\n",
      "flatten_1 (Flatten)          (None, 6272)              0         \n",
      "_________________________________________________________________\n",
      "dense_1 (Dense)              (None, 512)               3211776   \n",
      "_________________________________________________________________\n",
      "dense_2 (Dense)              (None, 1)                 513       \n",
      "=================================================================\n",
      "Total params: 3,453,121\n",
      "Trainable params: 3,453,121\n",
      "Non-trainable params: 0\n",
      "_________________________________________________________________\n"
     ]
    }
   ],
   "source": [
    "model.summary()"
   ]
  },
  {
   "cell_type": "code",
   "execution_count": 5,
   "metadata": {},
   "outputs": [],
   "source": [
    "from keras import optimizers"
   ]
  },
  {
   "cell_type": "markdown",
   "metadata": {},
   "source": [
    "model Compile"
   ]
  },
  {
   "cell_type": "code",
   "execution_count": 7,
   "metadata": {},
   "outputs": [],
   "source": [
    "model.compile(loss='binary_crossentropy',\n",
    "             optimizer=optimizers.RMSprop(lr=1e-4),\n",
    "             metrics=['acc'])"
   ]
  },
  {
   "cell_type": "markdown",
   "metadata": {},
   "source": [
    "image load"
   ]
  },
  {
   "cell_type": "code",
   "execution_count": 8,
   "metadata": {},
   "outputs": [],
   "source": [
    "from keras.preprocessing.image import ImageDataGenerator"
   ]
  },
  {
   "cell_type": "code",
   "execution_count": 9,
   "metadata": {},
   "outputs": [],
   "source": [
    "train_datagen = ImageDataGenerator(rescale=1./255)\n",
    "test_datagen = ImageDataGenerator(rescale=1./255)"
   ]
  },
  {
   "cell_type": "code",
   "execution_count": 11,
   "metadata": {},
   "outputs": [
    {
     "name": "stdout",
     "output_type": "stream",
     "text": [
      "Found 2000 images belonging to 2 classes.\n"
     ]
    }
   ],
   "source": [
    "train_generator = train_datagen.flow_from_directory('./datasets/cats_and_dogs_small/train', target_size=(150, 150), batch_size=20, class_mode='binary')"
   ]
  },
  {
   "cell_type": "code",
   "execution_count": 12,
   "metadata": {},
   "outputs": [
    {
     "name": "stdout",
     "output_type": "stream",
     "text": [
      "Found 1000 images belonging to 2 classes.\n"
     ]
    }
   ],
   "source": [
    "validation_generator = test_datagen.flow_from_directory('./datasets/cats_and_dogs_small/validation', target_size=(150, 150), batch_size=20, class_mode='binary')"
   ]
  },
  {
   "cell_type": "code",
   "execution_count": 14,
   "metadata": {},
   "outputs": [
    {
     "name": "stdout",
     "output_type": "stream",
     "text": [
      "Epoch 1/30\n",
      "100/100 [==============================] - 53s 530ms/step - loss: 0.6915 - acc: 0.5285 - val_loss: 0.6737 - val_acc: 0.5680\n",
      "Epoch 2/30\n",
      "100/100 [==============================] - 52s 524ms/step - loss: 0.6608 - acc: 0.5995 - val_loss: 0.6372 - val_acc: 0.6360\n",
      "Epoch 3/30\n",
      "100/100 [==============================] - 53s 529ms/step - loss: 0.6218 - acc: 0.6565 - val_loss: 0.6227 - val_acc: 0.6480\n",
      "Epoch 4/30\n",
      "100/100 [==============================] - 52s 521ms/step - loss: 0.5803 - acc: 0.6890 - val_loss: 0.5965 - val_acc: 0.6650\n",
      "Epoch 5/30\n",
      "100/100 [==============================] - 52s 521ms/step - loss: 0.5520 - acc: 0.7155 - val_loss: 0.5851 - val_acc: 0.6820\n",
      "Epoch 6/30\n",
      "100/100 [==============================] - 52s 524ms/step - loss: 0.5237 - acc: 0.7430 - val_loss: 0.5661 - val_acc: 0.6840\n",
      "Epoch 7/30\n",
      "100/100 [==============================] - 52s 520ms/step - loss: 0.4959 - acc: 0.7545 - val_loss: 0.5802 - val_acc: 0.6780\n",
      "Epoch 8/30\n",
      "100/100 [==============================] - 52s 522ms/step - loss: 0.4747 - acc: 0.7705 - val_loss: 0.5601 - val_acc: 0.7140\n",
      "Epoch 9/30\n",
      "100/100 [==============================] - 52s 520ms/step - loss: 0.4547 - acc: 0.7855 - val_loss: 0.5533 - val_acc: 0.7080\n",
      "Epoch 10/30\n",
      "100/100 [==============================] - 53s 526ms/step - loss: 0.4274 - acc: 0.7990 - val_loss: 0.5607 - val_acc: 0.7090\n",
      "Epoch 11/30\n",
      "100/100 [==============================] - 53s 526ms/step - loss: 0.4076 - acc: 0.8155 - val_loss: 0.8662 - val_acc: 0.6330\n",
      "Epoch 12/30\n",
      "100/100 [==============================] - 52s 522ms/step - loss: 0.3868 - acc: 0.8250 - val_loss: 0.5520 - val_acc: 0.7270\n",
      "Epoch 13/30\n",
      "100/100 [==============================] - 52s 522ms/step - loss: 0.3570 - acc: 0.8440 - val_loss: 0.5515 - val_acc: 0.7280\n",
      "Epoch 14/30\n",
      "100/100 [==============================] - 52s 524ms/step - loss: 0.3395 - acc: 0.8540 - val_loss: 0.5750 - val_acc: 0.7230\n",
      "Epoch 15/30\n",
      "100/100 [==============================] - 52s 522ms/step - loss: 0.3112 - acc: 0.8750 - val_loss: 0.6110 - val_acc: 0.7080\n",
      "Epoch 16/30\n",
      "100/100 [==============================] - 53s 528ms/step - loss: 0.2892 - acc: 0.8720 - val_loss: 0.5644 - val_acc: 0.7310\n",
      "Epoch 17/30\n",
      "100/100 [==============================] - 53s 528ms/step - loss: 0.2653 - acc: 0.9000 - val_loss: 0.6126 - val_acc: 0.7390\n",
      "Epoch 18/30\n",
      "100/100 [==============================] - 53s 530ms/step - loss: 0.2513 - acc: 0.8925 - val_loss: 0.6541 - val_acc: 0.7360\n",
      "Epoch 19/30\n",
      "100/100 [==============================] - 53s 527ms/step - loss: 0.2306 - acc: 0.9175 - val_loss: 0.5972 - val_acc: 0.7290\n",
      "Epoch 20/30\n",
      "100/100 [==============================] - 53s 525ms/step - loss: 0.2101 - acc: 0.9165 - val_loss: 0.6288 - val_acc: 0.7280\n",
      "Epoch 21/30\n",
      "100/100 [==============================] - 53s 525ms/step - loss: 0.1833 - acc: 0.9275 - val_loss: 0.6359 - val_acc: 0.7370\n",
      "Epoch 22/30\n",
      "100/100 [==============================] - 53s 530ms/step - loss: 0.1713 - acc: 0.9340 - val_loss: 0.8562 - val_acc: 0.7060\n",
      "Epoch 23/30\n",
      "100/100 [==============================] - 53s 526ms/step - loss: 0.1525 - acc: 0.9435 - val_loss: 0.6912 - val_acc: 0.7260\n",
      "Epoch 24/30\n",
      "100/100 [==============================] - 53s 527ms/step - loss: 0.1306 - acc: 0.9565 - val_loss: 0.7182 - val_acc: 0.7240\n",
      "Epoch 25/30\n",
      "100/100 [==============================] - 52s 525ms/step - loss: 0.1231 - acc: 0.9575 - val_loss: 0.7521 - val_acc: 0.7310\n",
      "Epoch 26/30\n",
      "100/100 [==============================] - 53s 525ms/step - loss: 0.1091 - acc: 0.9680 - val_loss: 0.7900 - val_acc: 0.7280\n",
      "Epoch 27/30\n",
      "100/100 [==============================] - 53s 527ms/step - loss: 0.0884 - acc: 0.9730 - val_loss: 0.9044 - val_acc: 0.7090\n",
      "Epoch 28/30\n",
      "100/100 [==============================] - 52s 525ms/step - loss: 0.0844 - acc: 0.9730 - val_loss: 0.8190 - val_acc: 0.7340\n",
      "Epoch 29/30\n",
      "100/100 [==============================] - 52s 522ms/step - loss: 0.0659 - acc: 0.9805 - val_loss: 0.9307 - val_acc: 0.7150\n",
      "Epoch 30/30\n",
      "100/100 [==============================] - 52s 520ms/step - loss: 0.0633 - acc: 0.9830 - val_loss: 0.8922 - val_acc: 0.7240\n"
     ]
    }
   ],
   "source": [
    "history = model.fit_generator(train_generator, steps_per_epoch=100, epochs=30, validation_data=validation_generator, validation_steps=50)"
   ]
  },
  {
   "cell_type": "code",
   "execution_count": 15,
   "metadata": {},
   "outputs": [],
   "source": [
    "model.save('cats_and_dogs_small_1.h5')"
   ]
  },
  {
   "cell_type": "code",
   "execution_count": 16,
   "metadata": {},
   "outputs": [],
   "source": [
    "import matplotlib.pyplot as plt"
   ]
  },
  {
   "cell_type": "code",
   "execution_count": 17,
   "metadata": {},
   "outputs": [
    {
     "data": {
      "image/png": "[encoded data removed]",
      "text/plain": [
       "<Figure size 432x288 with 1 Axes>"
      ]
     },
     "metadata": {
      "needs_background": "light"
     },
     "output_type": "display_data"
    },
    {
     "data": {
      "image/png": "[encoded data removed]",
      "text/plain": [
       "<Figure size 432x288 with 1 Axes>"
      ]
     },
     "metadata": {
      "needs_background": "light"
     },
     "output_type": "display_data"
    }
   ],
   "source": [
    "acc = history.history['acc']\n",
    "val_acc = history.history['val_acc']\n",
    "loss = history.history['loss']\n",
    "val_loss = history.history['val_loss']\n",
    "\n",
    "epochs = range(len(acc))\n",
    "\n",
    "plt.plot(epochs, acc, 'bo', label='Training acc')\n",
    "plt.plot(epochs, val_acc, 'b', label='Validation acc')\n",
    "plt.title('Training and validation accuracy')\n",
    "plt.legend()\n",
    "\n",
    "plt.figure()\n",
    "\n",
    "plt.plot(epochs, loss, 'bo', label='Training loss')\n",
    "plt.plot(epochs, val_loss, 'b', label='Validation loss')\n",
    "plt.title('Training and validation loss')\n",
    "plt.legend()\n",
    "\n",
    "plt.show()"
   ]
  }
 ],
 "metadata": {
  "kernelspec": {
   "display_name": "Python 3",
   "language": "python",
   "name": "python3"
  },
  "language_info": {
   "codemirror_mode": {
    "name": "ipython",
    "version": 3
   },
   "file_extension": ".py",
   "mimetype": "text/x-python",
   "name": "python",
   "nbconvert_exporter": "python",
   "pygments_lexer": "ipython3",
   "version": "3.6.5"
  }
 },
 "nbformat": 4,
 "nbformat_minor": 2
}
